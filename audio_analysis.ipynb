{
 "cells": [
  {
   "cell_type": "code",
   "execution_count": 1,
   "metadata": {},
   "outputs": [
    {
     "name": "stderr",
     "output_type": "stream",
     "text": [
      "C:\\Users\\gaura\\AppData\\Roaming\\Python\\Python312\\site-packages\\tqdm\\auto.py:21: TqdmWarning: IProgress not found. Please update jupyter and ipywidgets. See https://ipywidgets.readthedocs.io/en/stable/user_install.html\n",
      "  from .autonotebook import tqdm as notebook_tqdm\n"
     ]
    }
   ],
   "source": [
    "import torch\n",
    "from transformers import Wav2Vec2Model, Wav2Vec2Processor\n",
    "import numpy as np\n",
    "import pandas as pd\n",
    "from sklearn.neural_network import MLPClassifier\n",
    "from sklearn.model_selection import GroupShuffleSplit, train_test_split\n",
    "from sklearn.linear_model import LogisticRegression\n",
    "from sklearn.ensemble import RandomForestClassifier, HistGradientBoostingClassifier\n",
    "from sklearn.metrics import accuracy_score, classification_report\n",
    "from sklearn.inspection import permutation_importance"
   ]
  },
  {
   "cell_type": "code",
   "execution_count": 2,
   "metadata": {},
   "outputs": [],
   "source": [
    "df = pd.read_csv(\"data/processed_audios_2.csv\")\n",
    "\n",
    "X = df.drop('label', axis=1)\n",
    "y = df['label'] "
   ]
  },
  {
   "cell_type": "code",
   "execution_count": 3,
   "metadata": {},
   "outputs": [],
   "source": [
    "def train_evaluate_model(X_train, X_test, y_train, y_test, model_name, model):\n",
    "    model.fit(X_train, y_train)\n",
    "    \n",
    "    y_pred = model.predict(X_test)\n",
    "\n",
    "    accuracy = accuracy_score(y_test, y_pred)\n",
    "    report = classification_report(y_test, y_pred, output_dict=True)\n",
    "    spam_recall = report['0']['recall']\n",
    "    \n",
    "    print(f\"\\n{model_name} Results:\")\n",
    "    print(f\"Overal Accuracy: {accuracy:.4f}\")\n",
    "    print(f\"% of Spam Caught: {spam_recall:.4f}\")\n",
    "    \n",
    "    return model\n",
    "\n",
    "def evaluate_model(X_test, y_test, model):\n",
    "    y_pred = model.predict(X_test)\n",
    "    print(sum(y_pred) / len(y_pred))"
   ]
  },
  {
   "cell_type": "code",
   "execution_count": 4,
   "metadata": {},
   "outputs": [
    {
     "name": "stdout",
     "output_type": "stream",
     "text": [
      "Number of unique source files: 41\n",
      "Class distribution: 5831 / 8249 = 0.7069\n",
      "Sources in training set: 34\n",
      "Sources in testing set: 7\n",
      "Overlapping sources: 0\n",
      "Train class distribution: 5115 / 6918 = 0.7394\n",
      "Test class distribution: 716 / 1331 = 0.5379\n"
     ]
    }
   ],
   "source": [
    "# Extract groups for the split (source files)\n",
    "groups = X['source']\n",
    "\n",
    "print(f\"Number of unique source files: {len(groups.unique())}\")\n",
    "print(f\"Class distribution: {sum(y)} / {len(y)} = {sum(y) / len(y):.4f}\")\n",
    "\n",
    "# Perform a group-based split to ensure sources appear in only one split\n",
    "gss = GroupShuffleSplit(n_splits=1, test_size=0.15, random_state=42)\n",
    "\n",
    "# Get indices for the train-test split\n",
    "train_idx, test_idx = next(gss.split(X, y, groups=groups))\n",
    "\n",
    "# Apply the split\n",
    "X_train, X_test = X.iloc[train_idx], X.iloc[test_idx]\n",
    "y_train, y_test = y.iloc[train_idx], y.iloc[test_idx]\n",
    "\n",
    "# Verify we have properly separated sources\n",
    "train_sources = set(X_train['source'])\n",
    "test_sources = set(X_test['source'])\n",
    "overlap = train_sources.intersection(test_sources)\n",
    "print(f\"Sources in training set: {len(train_sources)}\")\n",
    "print(f\"Sources in testing set: {len(test_sources)}\")\n",
    "print(f\"Overlapping sources: {len(overlap)}\")\n",
    "print(f\"Train class distribution: {sum(y_train)} / {len(y_train)} = {sum(y_train) / len(y_train):.4f}\")\n",
    "print(f\"Test class distribution: {sum(y_test)} / {len(y_test)} = {sum(y_test) / len(y_test):.4f}\")\n",
    "\n",
    "X_train = X_train.drop('source', axis=1)\n",
    "X_test = X_test.drop('source', axis=1)\n",
    "\n",
    "cols = X_train.columns"
   ]
  },
  {
   "cell_type": "code",
   "execution_count": 5,
   "metadata": {},
   "outputs": [
    {
     "name": "stderr",
     "output_type": "stream",
     "text": [
      "c:\\Python312\\Lib\\site-packages\\sklearn\\linear_model\\_logistic.py:465: ConvergenceWarning: lbfgs failed to converge (status=1):\n",
      "STOP: TOTAL NO. of ITERATIONS REACHED LIMIT.\n",
      "\n",
      "Increase the number of iterations (max_iter) or scale the data as shown in:\n",
      "    https://scikit-learn.org/stable/modules/preprocessing.html\n",
      "Please also refer to the documentation for alternative solver options:\n",
      "    https://scikit-learn.org/stable/modules/linear_model.html#logistic-regression\n",
      "  n_iter_i = _check_optimize_result(\n"
     ]
    },
    {
     "name": "stdout",
     "output_type": "stream",
     "text": [
      "\n",
      "Logistic Regression Results:\n",
      "Overal Accuracy: 0.8310\n",
      "% of Spam Caught: 0.8374\n",
      "\n",
      "Top 5 Features by Importance:\n",
      "1. rms: -0.994207\n",
      "2. mfccs_15: -0.651516\n",
      "3. mfccs_14: 0.500533\n",
      "4. mfccs_16: 0.484943\n",
      "5. mfccs_13: -0.479628\n",
      "\n",
      "HistGradientBoosting Results:\n",
      "Overal Accuracy: 0.8527\n",
      "% of Spam Caught: 0.8016\n",
      "\n",
      "Performing permutation importance test for HGBT model...\n",
      "\n",
      "Top 5 Features by Permutation Importance:\n",
      "1. mfccs_3: 0.085800 ± 0.008754\n",
      "2. mfccs_4: 0.015702 ± 0.003867\n",
      "3. mfccs_22: 0.013524 ± 0.002967\n",
      "4. mfccs_15: 0.008189 ± 0.004335\n",
      "5. mfccs_23: 0.004959 ± 0.003559\n",
      "\n",
      "Neural Network Results:\n",
      "Overal Accuracy: 0.8392\n",
      "% of Spam Caught: 0.8569\n",
      "\n",
      "Performing permutation importance test for MLP model...\n",
      "\n",
      "Top 5 Features by Permutation Importance:\n",
      "1. mfccs_3: 0.084373 ± 0.008632\n",
      "2. spectral_rolloff: 0.074831 ± 0.005492\n",
      "3. spectral_bandwidth: 0.059279 ± 0.007003\n",
      "4. spectral_centroid: 0.025094 ± 0.005564\n",
      "5. mfccs_4: 0.023591 ± 0.004279\n"
     ]
    }
   ],
   "source": [
    "lr_text = train_evaluate_model(\n",
    "    X_train, X_test, \n",
    "    y_train, y_test,\n",
    "    \"Logistic Regression\",\n",
    "    LogisticRegression(max_iter=10000, class_weight='balanced', random_state=42)\n",
    ")\n",
    "sorted_indices = np.argsort(-np.abs(lr_text.coef_[0]))  # Note the negative sign for descending order\n",
    "\n",
    "top5_features = [cols[i] for i in sorted_indices[:5]]\n",
    "top5_coefficients = lr_text.coef_[0][sorted_indices[:5]]\n",
    "\n",
    "print(\"\\nTop 5 Features by Importance:\")\n",
    "for i, (feature, coef) in enumerate(zip(top5_features, top5_coefficients)):\n",
    "    print(f\"{i+1}. {feature}: {coef:.6f}\")\n",
    "\n",
    "hgbt_text = train_evaluate_model(\n",
    "    X_train, X_test, \n",
    "    y_train, y_test,\n",
    "    \"HistGradientBoosting\",\n",
    "    HistGradientBoostingClassifier(max_iter=100, random_state=42, class_weight='balanced')\n",
    ")\n",
    "\n",
    "# Perform permutation importance test\n",
    "print(\"\\nPerforming permutation importance test for HGBT model...\")\n",
    "perm_importance = permutation_importance(hgbt_text, X_test, y_test, \n",
    "                                     n_repeats=10)\n",
    "\n",
    "# Sort features by importance\n",
    "sorted_idx = perm_importance.importances_mean.argsort()[::-1]\n",
    "\n",
    "# Display top 5 features\n",
    "print(\"\\nTop 5 Features by Permutation Importance:\")\n",
    "for i in range(min(5, len(sorted_idx))):\n",
    "    feature_idx = sorted_idx[i]\n",
    "    print(f\"{i+1}. {X.columns[feature_idx]}: {perm_importance.importances_mean[feature_idx]:.6f} ± {perm_importance.importances_std[feature_idx]:.6f}\")\n",
    "\n",
    "\n",
    "mlp_text = train_evaluate_model(\n",
    "    X_train, X_test, \n",
    "    y_train, y_test,\n",
    "    \"Neural Network\",\n",
    "    MLPClassifier(random_state=42, hidden_layer_sizes=(100,))\n",
    ")\n",
    "\n",
    "print(\"\\nPerforming permutation importance test for MLP model...\")\n",
    "perm_importance = permutation_importance(mlp_text, X_test, y_test, \n",
    "                                     n_repeats=10)\n",
    "\n",
    "# Sort features by importance\n",
    "sorted_idx = perm_importance.importances_mean.argsort()[::-1]\n",
    "\n",
    "# Display top 5 features\n",
    "print(\"\\nTop 5 Features by Permutation Importance:\")\n",
    "for i in range(min(5, len(sorted_idx))):\n",
    "    feature_idx = sorted_idx[i]\n",
    "    print(f\"{i+1}. {X.columns[feature_idx]}: {perm_importance.importances_mean[feature_idx]:.6f} ± {perm_importance.importances_std[feature_idx]:.6f}\")"
   ]
  },
  {
   "cell_type": "code",
   "execution_count": 27,
   "metadata": {},
   "outputs": [
    {
     "name": "stdout",
     "output_type": "stream",
     "text": [
      "\n",
      "Test 2\n",
      "0.9230769230769231\n",
      "0.7658862876254181\n",
      "0.8795986622073578\n"
     ]
    }
   ],
   "source": [
    "df1 = pd.read_csv(\"data/test2_audios.csv\")\n",
    "X1 = df1.drop('label', axis=1)\n",
    "y1 = df1['label']\n",
    "\n",
    "print(\"\\nTest 2\")\n",
    "evaluate_model(X1, y1, lr_text)\n",
    "evaluate_model(X1, y1, hgbt_text)\n",
    "evaluate_model(X1, y1, mlp_text)"
   ]
  },
  {
   "cell_type": "code",
   "execution_count": 6,
   "metadata": {},
   "outputs": [
    {
     "name": "stdout",
     "output_type": "stream",
     "text": [
      "\n",
      "Test 3\n",
      "label =  0\n",
      "0.13358778625954199\n",
      "0.33587786259541985\n",
      "0.2824427480916031\n",
      "===================================\n",
      "label =  0\n",
      "0.13513513513513514\n",
      "0.2810810810810811\n",
      "0.2918918918918919\n",
      "===================================\n",
      "label =  0\n",
      "0.17261904761904762\n",
      "0.27976190476190477\n",
      "0.3273809523809524\n",
      "===================================\n",
      "label =  1\n",
      "0.4715447154471545\n",
      "0.6016260162601627\n",
      "0.6666666666666666\n",
      "===================================\n",
      "label =  1\n",
      "0.8689655172413793\n",
      "0.9586206896551724\n",
      "0.9379310344827586\n",
      "===================================\n",
      "label =  1\n",
      "0.8338278931750742\n",
      "0.8991097922848664\n",
      "0.9228486646884273\n",
      "===================================\n",
      "label =  1\n",
      "0.6126126126126126\n",
      "0.7297297297297297\n",
      "0.8108108108108109\n",
      "===================================\n"
     ]
    }
   ],
   "source": [
    "print(\"\\nTest 3\")\n",
    "\n",
    "for source in test_sources:\n",
    "    df_test = df[df['source'] == source]\n",
    "    X_test = df_test.drop(['label', 'source'], axis=1)\n",
    "    y_test = df_test['label']\n",
    "    \n",
    "    print(\"label = \", list(y_test)[0])\n",
    "    evaluate_model(X_test, y_test, lr_text)\n",
    "    evaluate_model(X_test, y_test, hgbt_text)\n",
    "    evaluate_model(X_test, y_test, mlp_text)\n",
    "    print(\"===================================\")"
   ]
  },
  {
   "cell_type": "code",
   "execution_count": 29,
   "metadata": {},
   "outputs": [
    {
     "data": {
      "image/png": "[encoded data removed]",
      "text/plain": [
       "<Figure size 640x480 with 1 Axes>"
      ]
     },
     "metadata": {},
     "output_type": "display_data"
    }
   ],
   "source": [
    "import matplotlib.pyplot as plt\n",
    "\n",
    "f, ax = plt.subplots()\n",
    "ax.plot([0.2824, 0.2918, 0.3273, 0.2797, 0.2910, 0.3359, 0.133, 0.1351, 0.172], [0, 0, 0, 1, 1, 1, 2, 2, 2], '.', color='orange', ms=10)\n",
    "ax.plot([0.6666, 0.9379, 0.9228, 0.81081, 0.7297, 0.8991, 0.9586, 0.6016, 0.6126, 0.8338, 0.8689, 0.4715], [0, 0, 0, 0, 1, 1, 1, 1, 2, 2, 2, 2], '.', color='blue', ms=10)\n",
    "ax.set_yticks([0, 1, 2])\n",
    "ax.set_yticklabels(['NN', 'HBGBT', 'LR'])\n",
    "ax.set_xlim(0, 1)\n",
    "ax.xaxis.grid()\n",
    "plt.title(\"Model Effects on Overall Speaker Audios\")\n",
    "plt.xlabel(\"Fraction of time marked as non-fraudulent\")\n",
    "plt.ylabel(\"Models\")\n",
    "plt.legend(['Fraudulent Speaker', 'Regular Speaker'], loc='center left', bbox_to_anchor=(1, 0, 0.5, 1))\n",
    "plt.show()"
   ]
  }
 ],
 "metadata": {
  "kernelspec": {
   "display_name": "Python 3",
   "language": "python",
   "name": "python3"
  },
  "language_info": {
   "codemirror_mode": {
    "name": "ipython",
    "version": 3
   },
   "file_extension": ".py",
   "mimetype": "text/x-python",
   "name": "python",
   "nbconvert_exporter": "python",
   "pygments_lexer": "ipython3",
   "version": "3.12.1"
  }
 },
 "nbformat": 4,
 "nbformat_minor": 2
}
